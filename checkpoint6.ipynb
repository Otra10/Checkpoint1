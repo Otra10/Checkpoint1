{
 "cells": [
  {
   "cell_type": "markdown",
   "id": "fb263b0f",
   "metadata": {},
   "source": [
    "1.Gérer les données : ouvrez le jeu de données à partir de CSV et divisez-le en jeux de données de test/train."
   ]
  },
  {
   "cell_type": "code",
   "execution_count": 45,
   "id": "cf1d1350",
   "metadata": {},
   "outputs": [],
   "source": [
    "import csv\n",
    "import random\n",
    "import math\n",
    "import operator\n",
    "def loadDataset(filename, split, trainingSet=[], testSet=[]):\n",
    "    with open(filename, 'r') as csvfile:\n",
    "        lines = csv.reader(csvfile)\n",
    "        dataset = list(lines)\n",
    "        for x in range(len(dataset) - 1):\n",
    "            for y in range(4):\n",
    "                dataset[x][y] = float(dataset[x][y])\n",
    "            if random.random() < split:\n",
    "                trainingSet.append(dataset[x])\n",
    "            else:\n",
    "                testSet.append(dataset[x])"
   ]
  },
  {
   "cell_type": "markdown",
   "id": "983897e2",
   "metadata": {},
   "source": [
    "2.Similitude : Calcule la distance entre deux instances de données."
   ]
  },
  {
   "cell_type": "code",
   "execution_count": 46,
   "id": "a70eab25",
   "metadata": {},
   "outputs": [],
   "source": [
    "def euclideanDistance(instance1, instance2, length):\n",
    "    distance = 0\n",
    "    for x in range(length):\n",
    "        distance += pow(instance1[x] - instance2[x], 2)\n",
    "    return math.sqrt(distance)"
   ]
  },
  {
   "cell_type": "markdown",
   "id": "2c0143a1",
   "metadata": {},
   "source": [
    "3.Voisins : localisez k pour les instances de données les plus similaires."
   ]
  },
  {
   "cell_type": "code",
   "execution_count": 47,
   "id": "fc115669",
   "metadata": {},
   "outputs": [],
   "source": [
    "def getNeighbors(trainingSet, testInstance, k):\n",
    "    distances = []\n",
    "    length = len(testInstance) - 1\n",
    "    for x in range(len(trainingSet)):\n",
    "        dist = euclideanDistance(testInstance, trainingSet[x], length)\n",
    "        distances.append((trainingSet[x], dist))\n",
    "    distances.sort(key=operator.itemgetter(1))\n",
    "    neighbors = []\n",
    "    for x in range(k):\n",
    "        neighbors.append(distances[x][0])\n",
    "    return neighbors"
   ]
  },
  {
   "cell_type": "markdown",
   "id": "614cd17e",
   "metadata": {},
   "source": [
    "4.Réponse : génère une réponse à partir d'un ensemble d'instances de données."
   ]
  },
  {
   "cell_type": "code",
   "execution_count": 48,
   "id": "e76c8956",
   "metadata": {},
   "outputs": [],
   "source": [
    "def getResponse(neighbors):\n",
    "    classVotes = {}\n",
    "    for x in range(len(neighbors)):\n",
    "        response = neighbors[x][-1]\n",
    "        if response in classVotes:\n",
    "            classVotes[response] += 1\n",
    "        else:\n",
    "            classVotes[response] = 1\n",
    "    sortedVotes = sorted(classVotes.items(), key=operator.itemgetter(1), reverse=True)\n",
    "    return sortedVotes[0][0]"
   ]
  },
  {
   "cell_type": "markdown",
   "id": "cd9d8ee9",
   "metadata": {},
   "source": [
    "5.Exactitude : Résumez l'exactitude des prédictions."
   ]
  },
  {
   "cell_type": "code",
   "execution_count": 49,
   "id": "304d8ecf",
   "metadata": {},
   "outputs": [],
   "source": [
    "def getAccuracy(testSet, predictions):\n",
    "    correct = 0\n",
    "    for x in range(len(testSet)):\n",
    "        if testSet[x][-1] == predictions[x]:\n",
    "            correct += 1\n",
    "    return (correct / float(len(testSet))) * 100.0\n"
   ]
  },
  {
   "cell_type": "markdown",
   "id": "014c7d23",
   "metadata": {},
   "source": [
    "6.Principal :  Attachez le tout ensemble."
   ]
  },
  {
   "cell_type": "code",
   "execution_count": 51,
   "id": "b917b31a",
   "metadata": {
    "scrolled": true
   },
   "outputs": [
    {
     "name": "stdout",
     "output_type": "stream",
     "text": [
      "> Predicted='Iris-setosa', Actual='Iris-setosa'\n",
      "> Predicted='Iris-setosa', Actual='Iris-setosa'\n",
      "> Predicted='Iris-setosa', Actual='Iris-setosa'\n",
      "> Predicted='Iris-setosa', Actual='Iris-setosa'\n",
      "> Predicted='Iris-setosa', Actual='Iris-setosa'\n",
      "> Predicted='Iris-setosa', Actual='Iris-setosa'\n",
      "> Predicted='Iris-setosa', Actual='Iris-setosa'\n",
      "> Predicted='Iris-setosa', Actual='Iris-setosa'\n",
      "> Predicted='Iris-setosa', Actual='Iris-setosa'\n",
      "> Predicted='Iris-setosa', Actual='Iris-setosa'\n",
      "> Predicted='Iris-setosa', Actual='Iris-setosa'\n",
      "> Predicted='Iris-setosa', Actual='Iris-setosa'\n",
      "> Predicted='Iris-setosa', Actual='Iris-setosa'\n",
      "> Predicted='Iris-setosa', Actual='Iris-setosa'\n",
      "> Predicted='Iris-versicolor', Actual='Iris-versicolor'\n",
      "> Predicted='Iris-versicolor', Actual='Iris-versicolor'\n",
      "> Predicted='Iris-versicolor', Actual='Iris-versicolor'\n",
      "> Predicted='Iris-versicolor', Actual='Iris-versicolor'\n",
      "> Predicted='Iris-versicolor', Actual='Iris-versicolor'\n",
      "> Predicted='Iris-versicolor', Actual='Iris-versicolor'\n",
      "> Predicted='Iris-versicolor', Actual='Iris-versicolor'\n",
      "> Predicted='Iris-versicolor', Actual='Iris-versicolor'\n",
      "> Predicted='Iris-versicolor', Actual='Iris-versicolor'\n",
      "> Predicted='Iris-virginica', Actual='Iris-versicolor'\n",
      "> Predicted='Iris-versicolor', Actual='Iris-versicolor'\n",
      "> Predicted='Iris-versicolor', Actual='Iris-versicolor'\n",
      "> Predicted='Iris-versicolor', Actual='Iris-versicolor'\n",
      "> Predicted='Iris-virginica', Actual='Iris-versicolor'\n",
      "> Predicted='Iris-versicolor', Actual='Iris-versicolor'\n",
      "> Predicted='Iris-versicolor', Actual='Iris-versicolor'\n",
      "> Predicted='Iris-versicolor', Actual='Iris-versicolor'\n",
      "> Predicted='Iris-versicolor', Actual='Iris-versicolor'\n",
      "> Predicted='Iris-versicolor', Actual='Iris-versicolor'\n",
      "> Predicted='Iris-versicolor', Actual='Iris-versicolor'\n",
      "> Predicted='Iris-versicolor', Actual='Iris-versicolor'\n",
      "> Predicted='Iris-virginica', Actual='Iris-virginica'\n",
      "> Predicted='Iris-virginica', Actual='Iris-virginica'\n",
      "> Predicted='Iris-versicolor', Actual='Iris-virginica'\n",
      "> Predicted='Iris-virginica', Actual='Iris-virginica'\n",
      "> Predicted='Iris-virginica', Actual='Iris-virginica'\n",
      "> Predicted='Iris-virginica', Actual='Iris-virginica'\n",
      "> Predicted='Iris-virginica', Actual='Iris-virginica'\n",
      "> Predicted='Iris-virginica', Actual='Iris-virginica'\n",
      "> Predicted='Iris-virginica', Actual='Iris-virginica'\n",
      "> Predicted='Iris-virginica', Actual='Iris-virginica'\n",
      "> Predicted='Iris-virginica', Actual='Iris-virginica'\n",
      "> Predicted='Iris-virginica', Actual='Iris-virginica'\n",
      "> Predicted='Iris-virginica', Actual='Iris-virginica'\n",
      "> Predicted='Iris-virginica', Actual='Iris-virginica'\n",
      "> Predicted='Iris-virginica', Actual='Iris-virginica'\n",
      "> Predicted='Iris-virginica', Actual='Iris-virginica'\n",
      "> Predicted='Iris-virginica', Actual='Iris-virginica'\n",
      "> Predicted='Iris-virginica', Actual='Iris-virginica'\n",
      "> Predicted='Iris-virginica', Actual='Iris-virginica'\n",
      "> Predicted='Iris-virginica', Actual='Iris-virginica'\n",
      "> Predicted='Iris-virginica', Actual='Iris-virginica'\n",
      "> Predicted='Iris-virginica', Actual='Iris-virginica'\n",
      "Accuracy: 94.73684210526315%\n"
     ]
    }
   ],
   "source": [
    "def main():\n",
    "    trainingSet = []\n",
    "    testSet = []\n",
    "    loadDataset('iris.data.txt', 0.66, trainingSet, testSet)\n",
    "    predictions = []\n",
    "    k = 3\n",
    "    for testInstance in testSet:\n",
    "        neighbors = getNeighbors(trainingSet, testInstance, k)\n",
    "        result = getResponse(neighbors)\n",
    "        predictions.append(result)\n",
    "        print('> Predicted=' + repr(result) + ', Actual=' + repr(testInstance[-1]))\n",
    "    accuracy = getAccuracy(testSet, predictions)\n",
    "    print('Accuracy: ' + repr(accuracy) + '%')\n",
    "\n",
    "if __name__ == '__main__':\n",
    "    main()"
   ]
  },
  {
   "cell_type": "markdown",
   "id": "4bc38747",
   "metadata": {},
   "source": [
    "7.Une autre mesure de distance"
   ]
  },
  {
   "cell_type": "code",
   "execution_count": null,
   "id": "af26ee3e",
   "metadata": {},
   "outputs": [],
   "source": [
    "def manhattanDistance(instance1, instance2, length):\n",
    "    distance = 0\n",
    "    for x in range(length):\n",
    "        distance += abs(instance1[x] - instance2[x])\n",
    "    return distance"
   ]
  }
 ],
 "metadata": {
  "kernelspec": {
   "display_name": "Python 3 (ipykernel)",
   "language": "python",
   "name": "python3"
  },
  "language_info": {
   "codemirror_mode": {
    "name": "ipython",
    "version": 3
   },
   "file_extension": ".py",
   "mimetype": "text/x-python",
   "name": "python",
   "nbconvert_exporter": "python",
   "pygments_lexer": "ipython3",
   "version": "3.10.9"
  }
 },
 "nbformat": 4,
 "nbformat_minor": 5
}
