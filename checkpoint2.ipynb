{
 "cells": [
  {
   "cell_type": "code",
   "execution_count": 8,
   "id": "35f0cada",
   "metadata": {},
   "outputs": [
    {
     "name": "stdout",
     "output_type": "stream",
     "text": [
      "[2002, 2009, 2016, 2023, 2037, 2044, 2051, 2058, 2072, 2079, 2086, 2093, 2107, 2114, 2121, 2128, 2142, 2149, 2156, 2163, 2177, 2184, 2191, 2198, 2212, 2219, 2226, 2233, 2247, 2254, 2261, 2268, 2282, 2289, 2296, 2303, 2317, 2324, 2331, 2338, 2352, 2359, 2366, 2373, 2387, 2394, 2401, 2408, 2422, 2429, 2436, 2443, 2457, 2464, 2471, 2478, 2492, 2499, 2506, 2513, 2527, 2534, 2541, 2548, 2562, 2569, 2576, 2583, 2597, 2604, 2611, 2618, 2632, 2639, 2646, 2653, 2667, 2674, 2681, 2688, 2702, 2709, 2716, 2723, 2737, 2744, 2751, 2758, 2772, 2779, 2786, 2793, 2807, 2814, 2821, 2828, 2842, 2849, 2856, 2863, 2877, 2884, 2891, 2898, 2912, 2919, 2926, 2933, 2947, 2954, 2961, 2968, 2982, 2989, 2996, 3003, 3017, 3024, 3031, 3038, 3052, 3059, 3066, 3073, 3087, 3094, 3101, 3108, 3122, 3129, 3136, 3143, 3157, 3164, 3171, 3178, 3192, 3199]\n"
     ]
    }
   ],
   "source": [
    "#Question 1\n",
    "liste=[]\n",
    "for i in range(2000,3201):\n",
    "    if i%7==0 and i%5!=0:\n",
    "        liste.append(i)\n",
    "print(liste)"
   ]
  },
  {
   "cell_type": "code",
   "execution_count": 13,
   "id": "25e4cf8b",
   "metadata": {},
   "outputs": [
    {
     "name": "stdout",
     "output_type": "stream",
     "text": [
      "Entrer un nombre: 3\n",
      "6\n"
     ]
    }
   ],
   "source": [
    "#Question 2\n",
    "n=int(input(\"Entrer un nombre: \"))\n",
    "fact=1\n",
    "for i in range(2,n+1):\n",
    "    fact*=i\n",
    "print(fact)"
   ]
  },
  {
   "cell_type": "code",
   "execution_count": 67,
   "id": "5862f87a",
   "metadata": {},
   "outputs": [
    {
     "name": "stdout",
     "output_type": "stream",
     "text": [
      "Entrer un nombre: 8\n",
      "{1: 1, 2: 4, 3: 9, 4: 16, 5: 25, 6: 36, 7: 49, 8: 64}\n"
     ]
    }
   ],
   "source": [
    "#Question 3\n",
    "n=int(input(\"Entrer un nombre: \"))\n",
    "dictionnaire={i:i*i for i in range(1,n+1)}\n",
    "print(dictionnaire)"
   ]
  },
  {
   "cell_type": "code",
   "execution_count": 90,
   "id": "aee8556a",
   "metadata": {},
   "outputs": [
    {
     "name": "stdout",
     "output_type": "stream",
     "text": [
      "Entrer une chaine : kitten\n",
      "1\n",
      "ktten\n"
     ]
    }
   ],
   "source": [
    "#Question 4\n",
    "chaine=input(\"Entrer une chaine : \")\n",
    "ch=\"\"\n",
    "n=len(chaine)\n",
    "n2=random.randint(0,n-1)\n",
    "a=n2+1\n",
    "ch=chaine[0:n2]+chaine[a:n]\n",
    "print(n2)\n",
    "print(ch)"
   ]
  },
  {
   "cell_type": "code",
   "execution_count": 91,
   "id": "c97d1d92",
   "metadata": {},
   "outputs": [
    {
     "data": {
      "text/plain": [
       "[[0, 1], [2, 3], [4, 5]]"
      ]
     },
     "execution_count": 91,
     "metadata": {},
     "output_type": "execute_result"
    }
   ],
   "source": [
    "#Question 5\n",
    "import numpy as np\n",
    "tableau=np.array([[0,1],[2,3],[4,5]])\n",
    "liste=tableau.tolist()\n",
    "liste"
   ]
  },
  {
   "cell_type": "code",
   "execution_count": 104,
   "id": "e12f9db8",
   "metadata": {},
   "outputs": [
    {
     "name": "stdout",
     "output_type": "stream",
     "text": [
      "[[ 1. -1.]\n",
      " [-1.  1.]]\n"
     ]
    }
   ],
   "source": [
    "#Question 6\n",
    "import numpy as np\n",
    "tableau1=np.array([[0,1,2]])\n",
    "tableau2=np.array([[2,1,0]])\n",
    "covariance=np.cov(tableau1,tableau2)\n",
    "print(covariance)"
   ]
  },
  {
   "cell_type": "code",
   "execution_count": 117,
   "id": "8bc3e9ec",
   "metadata": {},
   "outputs": [
    {
     "name": "stdout",
     "output_type": "stream",
     "text": [
      "Entrer le nombre de calcul que vous voulez faire :3\n",
      "Entrer la valeur 1  valeur de D :100\n",
      "Entrer la valeur 2  valeur de D :150\n",
      "Entrer la valeur 3  valeur de D :180\n",
      "Q0=sqrt((liste[i]*C*2)/H) =  18\n",
      "Q1=sqrt((liste[i]*C*2)/H) =  22\n",
      "Q2=sqrt((liste[i]*C*2)/H) =  24\n"
     ]
    }
   ],
   "source": [
    "#Question 7\n",
    "import math\n",
    "n=int(input(\"Entrer le nombre de calcul que vous voulez faire :\"))\n",
    "liste=[]\n",
    "C=50\n",
    "H=30\n",
    "for i in range(1,n+1):\n",
    "    D=int(input(f\"Entrer la valeur {i}  valeur de D :\"))\n",
    "    liste.append(D)\n",
    "n=len(liste)-1\n",
    "for i in range(0,n+1):\n",
    "     q=int(math.sqrt((liste[i]*C*2)/H))\n",
    "     print(f\"Q{i}=sqrt((liste[i]*C*2)/H) = \",q)"
   ]
  },
  {
   "cell_type": "code",
   "execution_count": null,
   "id": "34bcf85f",
   "metadata": {},
   "outputs": [],
   "source": []
  },
  {
   "cell_type": "code",
   "execution_count": null,
   "id": "ab199759",
   "metadata": {},
   "outputs": [],
   "source": []
  }
 ],
 "metadata": {
  "kernelspec": {
   "display_name": "Python 3 (ipykernel)",
   "language": "python",
   "name": "python3"
  },
  "language_info": {
   "codemirror_mode": {
    "name": "ipython",
    "version": 3
   },
   "file_extension": ".py",
   "mimetype": "text/x-python",
   "name": "python",
   "nbconvert_exporter": "python",
   "pygments_lexer": "ipython3",
   "version": "3.10.9"
  }
 },
 "nbformat": 4,
 "nbformat_minor": 5
}
